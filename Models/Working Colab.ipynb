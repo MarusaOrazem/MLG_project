{
 "cells": [
  {
   "cell_type": "markdown",
   "metadata": {
    "pycharm": {
     "name": "#%% md\n"
    }
   },
   "source": [
    "# TEMPORAL SET PREDICTION USING GRAPH BASED APPROACHES.\n",
    "This is the accompanying notebook to the Medium Blog entitled [\"'Don't forget the milk again!': Predicting temporal shopping sets using Graph Neural Networks\"](https://medium.com/@wwwidonja/dont-forget-the-milk-again-adc8924fdbe1). It was prepared as part of the Stanford CS224W course project @UL FRI; 2021/22 by Sara Bizjak, Maruša Oražem and Vid Stropnik. While this notebook is meant to be self-sufficient, it will be best experienced by concurrently reading the accompanying blog, linked above. Here, a more robust and theorethical overview of the model and problem at hand will be given, while the blog contextualizes the intent of the model more thoroughly and also gives a good introduction into the theory used here."
   ]
  },
  {
   "cell_type": "markdown",
   "metadata": {
    "pycharm": {
     "name": "#%% md\n"
    }
   },
   "source": [
    "### Introduction\n",
    "In this notebook, we'll be implementing a model for temporal set prediction. Namely, we'll be working on the example of predicting future shopping carts by observing the purchasing habit of a given household in the past.\n",
    "\n",
    "We'll be using a model proposed by [Yu et. al. in their 2020 paper entitled \"Predicting Temporal Sets with Deep Neural Networks\"](https://dl.acm.org/doi/10.1145/3394486.3403152).\n",
    "\n",
    "As for the data, we will be using the first couple of months from the [Dunhumby's \"The Complete Journey\" dataset](https://medium.com/r?url=https%3A%2F%2Fwww.dunnhumby.com%2Fsource-files%2F). It contains transaction level data for over 2500 households in a general goods store."
   ]
  },
  {
   "cell_type": "markdown",
   "metadata": {
    "pycharm": {
     "name": "#%% md\n"
    }
   },
   "source": [
    "### Problem formalization\n",
    "We are given a sequence of sets *{$s^{1}_{i}$, $s^{2}_{i}$, ... $s^{T_{max}}_{i}$}.* Each set in this sequence describes the items that were purchased by household *i* on their *t-th* visit to the general goods store, where $t \\in \\{ 1 \\dots T_{max} \\}$-th . For example, if $s^{1}_{42} = \\{\\text{item}_{26}, \\text{item}_{07}, \\text{item}_{33}\\},$ this means that the household with the identifier *42* bought three items on their first visit to this supermarket. Namely, they bought the items with identifiers 26, 07 and 33.\n",
    "\n",
    "We want to train a deep neural network that will be able to take into account both the similarities between individual items, as well as the temporal purchasing habits of individual households. With such a model, we want to predict the probable contents of a subsequent shopping basket by household *i*. More formally, we want to train the function *f* in:\n",
    "$$ s^{T_{max}+1} = f\\big{(} s^{1}_{i}, s^{2}_{i}, \\dots s^{T_{max}}_{i} | \\Theta_{f}  \\big{)}, $$ where $\\Theta_{f}$ is the set of all trainable parameters of our model."
   ]
  },
  {
   "cell_type": "markdown",
   "metadata": {
    "pycharm": {
     "name": "#%% md\n"
    }
   },
   "source": [
    "## Preparation & packages\n",
    "First, we'll import some packages that will help us get the job done.\n",
    "The main bulk of our code will be written in Pytorch (torch) and Pytorch Geometric (torch_geometric). As we'll soon see, we'll construct the representations of our sets using networks: a data structure composed of vertices and edges. To parse them efficiently, we will use the well established network library, [networkx](https://networkx.org/). We'll also extract some data from the [originalsource transaction csv file]() <font color=\"red\"> <---link needed here </font>. We'll use [pandas](https://pandas.pydata.org/) only to process that.\n",
    "\n",
    "Finally, we use some standard or utility libraries like [os](https://docs.python.org/3/library/os.html), [pickle](https://wiki.python.org/moin/UsingPickle) and [tqdm](https://github.com/tqdm/tqdm) for more efficient printouts, temporary file processing and system querying. These won't be crucial for the understanding of the text below."
   ]
  },
  {
   "cell_type": "code",
   "execution_count": 2,
   "metadata": {},
   "outputs": [],
   "source": [
    "import torch\n",
    "import torch.nn as nn\n",
    "import torch_geometric.nn\n",
    "from torch_geometric.nn import GCNConv\n",
    "import pandas as pd\n",
    "import os\n",
    "from os import path\n",
    "import networkx as nx\n",
    "from torch_geometric.utils import from_networkx\n",
    "from tqdm import tqdm\n",
    "import pickle"
   ]
  },
  {
   "cell_type": "markdown",
   "metadata": {},
   "source": [
    "Here, we prepare some static variables that we're going to neeed later. From the source dataset, we get a list of all unique items codes. We will also save their total number under `num_all_unique_items`.import torch"
   ]
  },
  {
   "cell_type": "code",
   "execution_count": 23,
   "metadata": {},
   "outputs": [
    {
     "name": "stdout",
     "output_type": "stream",
     "text": [
      "There are a total of 24375 unique items in our dataset\n"
     ]
    }
   ],
   "source": [
    "original_csv = pd.read_csv(os.path.join('..\\\\data\\\\', 'transaction_data_smaller.csv'))\n",
    "all_unique_items = [i for i in list(original_csv.PRODUCT_ID.unique())]\n",
    "num_all_unique_items = len(all_unique_items)\n",
    "reverse_uid = {str(item_code) : idx for idx, item_code in enumerate(all_unique_items)}\n",
    "print(f'There are a total of {num_all_unique_items} unique items in our dataset')\n",
    "\n",
    "\n",
    "## we initialize these dimensions which will be explained later here, just so we can efficiently pickle our temporary files. These will be explained later.\n",
    "f0 = f1 = f2 = 32\n",
    "hidden_dims = [32, 32]"
   ]
  },
  {
   "cell_type": "markdown",
   "metadata": {
    "pycharm": {
     "name": "#%% md\n"
    }
   },
   "source": [
    "# Part 1: Constructing weighted graphs.\n",
    "As seen in the accompanying blog post, our method proposes a weighted graph convolutional network on dynamic graphs, which represent individual shopping carts. Very briefly, we need to first construct the sets from the transaction level source `.csv` file. Then, we extract the (normalized) frequency of co-occuring item pairs. Finally, we transform each shopping set to a weighted graph, where items that co-occur in it are connected with edges, weighted by the mentioned co-occurrence frequency. To each such graph, we also add self-loops of singletons that don't appear in this particular shopping cart, but are purchased by the household in some other shopping cart $s_{i}^{t}$.\n",
    "\n",
    "The first step of our approach is thus to construct these graphs. As this is quite computationally expensive, we offload the creation of these graphs into a different colab, which [you can access by clicking here](https://colab.research.google.com/drive/1vyahNq6Jo60Bg4tcMv0mfqs9Lwz5uXpC?usp=sharing).\n",
    "**In this colab, we'll work with the outputs from that colab. You can access our outputs [here]() <font color=\"red\"><--- Link needed here. </font>. Just put unzip them and put them in the root directory folder 'Graphs' to continue working.**"
   ]
  },
  {
   "cell_type": "markdown",
   "metadata": {
    "pycharm": {
     "name": "#%% md\n"
    }
   },
   "source": [
    "In the following cell, we construct the dictionary `shopping_per_hh`. It's keys denote the codes of all housholds in the `Graphs` folder, while it's values will be lists of `torch.data.Data` objects, representing shopping baskets from the household's discrete trips to the general goods store. Hence, at `shopping_per_hh[\"1000\"][4]`, we will find the `torch.data.Data` graph, describing household's `hid=\"1000\"` fourth tip to the store and the items they purchased.\n",
    "\n",
    "Into each `torch.data.Data` object, we will read the weighted graphs, constructed by our external colab and convert them to pytorch's way of distinguishing representing data. We'll add some aditional info to each graph - these will come handy later:\n",
    "* into `data.x`, we will save a tensor of size $(N, 1)$, where *N* is the number of nodes appearing in this graph. This tensor will denote node features, needed for our eventual GCN model to run. Because we want to treat all nodes equally, we give them equivalent features (ones).\n",
    "* into `data.id`, we will save a 'translator', which maps from the node's identifier in the graph ($i \\in [0, N-1]$) to the the identifier of the item it represents in Dunhumby's original dataset.\n",
    "* into `data.y`, we will save a sparse tensor of size $(\\hat{N}, 1)$, where $\\hat{N}$ is the number of all items, appearing across all households in the dataset. The tensor will be a multi-hot encoding and will hold ones in the indices, corresponding to the indices of the items contained in this graph's shopping basket in our static matrix representations of all items $E$. (to learn more about this, reference the Medium blog). We construct these tensors using the `reverse_uid` dictionary, that we initialized before. This dictionary will ( upon the initialization of `E` later ) serve as a reference map between the row indices of $E$ and the dataset item codes."
   ]
  },
  {
   "cell_type": "code",
   "execution_count": 4,
   "metadata": {},
   "outputs": [
    {
     "name": "stdout",
     "output_type": "stream",
     "text": [
      "Creating graphs from files\n",
      "torch.data.Data lists have been created for 1626 households\n"
     ]
    }
   ],
   "source": [
    "shopping_per_hh = {}\n",
    "\n",
    "#This is just a test -- we're only constructing the graphs for houshold id 22 as a proof of concept!\n",
    "print('Creating graphs from files')\n",
    "if not path.exists(path.join(\"..\\\\data\\\\pickles\", f\"shopping_per_hh_F1_{f1}_hid_{hidden_dims}.pkl.gz\")):\n",
    "    for filename in tqdm(os.listdir(\"../data/Test-Graphs/content/Graphs/\")):\n",
    "        splits = filename.split('_')\n",
    "        hh_id = splits[0]\n",
    "        if hh_id not in shopping_per_hh: shopping_per_hh[hh_id] = []\n",
    "\n",
    "\n",
    "        ## we construct a NX graph and cast it to pytorch.data.Data\n",
    "        G = nx.Graph(nx.read_pajek(os.path.join(\"../data/Test-Graphs/content/Graphs/\",filename)))\n",
    "        data = from_networkx(G)\n",
    "        \n",
    "        # We get a list of all items actually contained in the basket. These are items that are isolates in the NetworkX graph.        \n",
    "        articles_in_basket = [i for i in list(G.nodes()) if i not in list(nx.isolates(G))]\n",
    "        \n",
    "        \n",
    "        #we construct the custom data features we discussed above...\n",
    "        gt = torch.zeros(num_all_unique_items)\n",
    "        indices_in_E = [reverse_uid[i] for i in articles_in_basket]\n",
    "        gt[indices_in_E] = 1\n",
    "        gt = gt.to_sparse()\n",
    "        x = torch.ones(G.number_of_nodes(), 1)\n",
    "        \n",
    "        #..., add them to the graph representation and save the graph in the dictionary.\n",
    "        data.x = x\n",
    "        data.id = {i:code for (i, code) in zip ([i for i in range(G.number_of_nodes())], list(G.nodes()))}\n",
    "        data.y = gt\n",
    "        shopping_per_hh[hh_id].append(data)\n",
    "    \n",
    "    with open(path.join(\"..\\\\data\\\\pickles\", f\"shopping_per_hh_F1_{f1}_hid_{hidden_dims}.pkl.gz\"), \"wb\") as f:\n",
    "        pickle.dump(shopping_per_hh, f)\n",
    "\n",
    "else:\n",
    "    with open(path.join(\"..\\\\data\\\\pickles\", f\"shopping_per_hh_F1_{f1}_hid_{hidden_dims}.pkl.gz\"), \"rb\") as f:\n",
    "        shopping_per_hh = pickle.load(f)\n",
    "        \n",
    "print(f'torch.data.Data lists have been created for {len(list(shopping_per_hh.keys()))} households')"
   ]
  },
  {
   "cell_type": "markdown",
   "metadata": {
    "pycharm": {
     "name": "#%% md\n"
    }
   },
   "source": [
    "# Part 2: Convolutions on weighted graphs\n",
    "Now that we have our weighted graphs, it's time to create the first module of our temporal set prediction model - a stack of convolutional layers.\n",
    "\n",
    "To quickly recap and slightly formalize what we've done so far: The input for this module is a sequence of dynamic graphs $\\mathbb{G}_i = \\{\\mathcal{G}_i^1,...\\mathcal{G}_i^T\\}$, where graph $\\mathcal{G}_i^t \\in \\mathbb{G}_i$ contains all nodes ever purchased by this household. These are represented as $\\{e_{i,j}^t \\in \\mathbb{R}^{N \\times 1}, \\forall v_{i,j} \\in \\mathcal{V}_i\\}$. ($N \\times 1$ is the dimension of node features ( equal to `in_features` and *i* is the considered household).\n",
    "\n",
    "For each graph $\\mathcal{G}_i$, the output of this convolutional module is a new sequence representation, which we will denote as  $\\{c_{i,j}^t \\in \\mathbb{R}^{F_{1}}, \\forall v_{i,j} \\in \\mathcal{V}_i\\}$. ($F_{1}$ is the new dimension equal to `out_features`). We've set the value of item embeddings already (for naming the stored files so we don't override something), so we can print it out! We'll do the same for the dimensionality of our the hidden layers GCN layers, which we'll look at next."
   ]
  },
  {
   "cell_type": "code",
   "execution_count": 5,
   "metadata": {
    "pycharm": {
     "name": "#%%\n"
    }
   },
   "outputs": [
    {
     "name": "stdout",
     "output_type": "stream",
     "text": [
      "Our convolutional module will output 32-dimensional embeddings\n",
      "Our convolutional module will have 2 hidden layers. The dimensionalities are : [32, 32]\n"
     ]
    }
   ],
   "source": [
    "print(f'Our convolutional module will output {f1}-dimensional embeddings')\n",
    "print(f'Our convolutional module will have {len(hidden_dims)} hidden layers. The dimensionalities are : {hidden_dims}')"
   ]
  },
  {
   "cell_type": "markdown",
   "metadata": {},
   "source": [
    "To reduce the parameter scale and also make our method flexible to deal with sequences with variable lengths, a parameter sharing strategy is adopted. The weighted convolutions are implemented by propagating information of elements in each dynamic graphs as follows. For graph $\\mathcal{G}_i$\n",
    "$$c_{i,j}^{t,l+1} = \\sigma\\left( b^l + \\sum_{k \\in N_{i,j}^t \\cup \\{j\\}}   A_i^t[j,k] \\cdot \\left( W^t c_{i,k}^{t,l} \\right) \\right),$$ where $A_i^t[j,k]$ represents the item in j-th row and k-th column of matrix $A_i^t$, which is the edge weight of $v_{i,j}$ and $v_{i,k}$ in graph $\\mathcal{G}_i^t$. The superscript index *l* here denotes the convolutional layer in which the representation is located, and $\\sigma$ denotes the chosen non-linearity for our conovlutional layer. In our case, this will be ReLU. <font color=\"red\"> Are we actually doing parameter sharing at the moment? </font>"
   ]
  },
  {
   "cell_type": "markdown",
   "metadata": {},
   "source": [
    "**Convolutional layer**\n",
    "\n",
    "We are going to override the `nn.Module` to construct our convolutional layer.\n",
    "For the convolutions, we're going to use the `GCNConv` layer from the PyG library. The convolutions are realized as follows:\n",
    "\n",
    "$$\\mathbf{X}^{\\prime} = \\mathbf{\\hat{D}}^{-1/2} \\mathbf{\\hat{A}}\n",
    "\\mathbf{\\hat{D}}^{-1/2} \\mathbf{X} \\mathbf{\\Theta},$$\n",
    "\n",
    "where $\\mathbf{\\hat{A}} = \\mathbf{A + I}$ is the adjacency matrix of a graph with inserted self-loops, and $\\mathbf{\\hat{D}}$ is its diagonal degree matrix.\n",
    "PyG makes the use of convolutions simple by simpy asking us to input the node feature tensor (data.x) of shape `[num_of_nodes, num_of_features]` and the `torch.data.Data` object's `edge_index`, a graph connectivity tensor in `COO` format with shape `[2, num_of_edges]`\n",
    "\n",
    "Here are some other terms needed to understand the following code, where we construct our convolutional module:\n",
    "\n",
    "`nn.ModuleList()` - Holds submodules in a list. <br>\n",
    "`nn.ReLU()` - Applies the rectified linear unit function element-wise: ReLU(x) = max(0,x) <br>\n",
    "`nn.BatchNorm1d` - Applies Batch Normalization over a 2D or 3D input. $y=\\frac{x-E[x]}{\\sqrt{var[x]+\\epsilon}} \\cdot \\gamma + \\beta$, The mean and standard-deviation are calculated per-dimension over the mini-batches and \\gammaγ and \\betaβ are learnable parameter vectors of size C (where C is the input size)."
   ]
  },
  {
   "cell_type": "code",
   "execution_count": 6,
   "metadata": {},
   "outputs": [],
   "source": [
    "class weighted_GCN(nn.Module):\n",
    "    def __init__(self, in_features, hidden_sizes, out_features):\n",
    "        '''\n",
    "        :param in_features: int, number of input features\n",
    "        :param hidden_sizes: List[int], list of integers of hidden sizes\n",
    "        :param out_features: int, number of output features\n",
    "        '''\n",
    "        super(weighted_GCN, self).__init__()\n",
    "        # we are going to use 3 layers, first graph conv we wrote before, ReLu function and normalization\n",
    "        gcns, relus, bns = nn.ModuleList(), nn.ModuleList(), nn.ModuleList()\n",
    "        \n",
    "        # layers for hidden_size\n",
    "        input_size = in_features\n",
    "        for hidden_size in hidden_sizes:\n",
    "            \n",
    "            # go through all the hidden layers and call all three functions (modules)\n",
    "            gcns.append(GCNConv(in_channels=input_size, \n",
    "                            out_channels=hidden_size,\n",
    "                            improved=False,\n",
    "                            cached=False,\n",
    "                            add_self_loops=False,\n",
    "                            normalize=False,\n",
    "                            bias=False)) \n",
    "            \n",
    "            relus.append(nn.ReLU())\n",
    "            bns.append(nn.BatchNorm1d(hidden_size))\n",
    "            \n",
    "            input_size = hidden_size # next layer start size will be output from one layer before\n",
    "        \n",
    "        # output layer\n",
    "        gcns.append(GCNConv(in_channels=hidden_sizes[-1], \n",
    "                            out_channels=out_features,\n",
    "                            improved=False,\n",
    "                            cached=False,\n",
    "                            add_self_loops=False,\n",
    "                            normalize=False,\n",
    "                            bias=False\n",
    "                            )\n",
    "                   )\n",
    "        relus.append(nn.ReLU())\n",
    "        bns.append(nn.BatchNorm1d(out_features))\n",
    "        self.gcns, self.relus, self.bns = gcns, relus, bns\n",
    "\n",
    "    def forward(self, x, adj_t):\n",
    "        h = x\n",
    "        for gcn, relu, bn in zip(self.gcns, self.relus, self.bns):\n",
    "            \n",
    "            h = gcn(h, adj_t)\n",
    "            h = bn(h.transpose(1, -1)).transpose(1, -1)\n",
    "            h = relu(h)\n",
    "        return h"
   ]
  },
  {
   "cell_type": "markdown",
   "metadata": {
    "pycharm": {
     "name": "#%% md\n"
    }
   },
   "source": [
    "For easier understanding of the the process, we will follow the transformation that one input makes throughout it's journey through our model. Let this be the purchasing habits of household `\"1000\"`. Feel free to toy around and change the index of the chosen household in the following cell, if you want to follow a different household (eg. try \"1001\" or \"1002\")!"
   ]
  },
  {
   "cell_type": "code",
   "execution_count": 7,
   "metadata": {
    "pycharm": {
     "name": "#%%\n"
    }
   },
   "outputs": [],
   "source": [
    "CHOSEN_HH = \"1000\""
   ]
  },
  {
   "cell_type": "markdown",
   "metadata": {
    "pycharm": {
     "name": "#%% md\n"
    }
   },
   "source": [
    "Run the following cell to learn more about the houshold we'll be looking at."
   ]
  },
  {
   "cell_type": "code",
   "execution_count": 8,
   "metadata": {
    "pycharm": {
     "name": "#%%\n"
    },
    "scrolled": true
   },
   "outputs": [
    {
     "name": "stdout",
     "output_type": "stream",
     "text": [
      "The chosen household (1000) made 11 trips to the store in the dataset.\n",
      "We'll be predicting the contents of their 11th basked based on what they bought in the preceding 10.\n",
      "This houshold purchased 88 items in all of its 11 visits to the store.\n",
      "Their final basket contains 25 items.\n"
     ]
    }
   ],
   "source": [
    "baskets = shopping_per_hh[CHOSEN_HH]\n",
    "\n",
    "print(f'The chosen household ({CHOSEN_HH}) made {len(baskets)} trips to the store in the dataset.\\n'\n",
    "      f'We\\'ll be predicting the contents of their {len(baskets)}th basked based on what '\n",
    "      f'they bought in the preceding {len(baskets)-1}.\\n'\n",
    "      f'This houshold purchased {len(list(baskets[0].id.keys()))} items in all of its {11} visits to the store.\\n'\n",
    "      f'Their final basket contains {len(list(baskets[-1].y.to_dense().nonzero()))} items.' )\n",
    "\n",
    "Xbaskets = baskets[:-1]\n",
    "Ybaskets = baskets[-1]"
   ]
  },
  {
   "cell_type": "markdown",
   "metadata": {
    "pycharm": {
     "name": "#%% md\n"
    }
   },
   "source": [
    "In the following cell, we initialize the convolutional module and send the `CHOSEN_HH`'s $T_{max}-1$ baskets through."
   ]
  },
  {
   "cell_type": "code",
   "execution_count": 9,
   "metadata": {
    "pycharm": {
     "name": "#%%\n"
    }
   },
   "outputs": [
    {
     "name": "stdout",
     "output_type": "stream",
     "text": [
      "The newly created list 'convoluted_Xbaskets' is now a <class 'list'> of length 10,where each entry is of size torch.Size([88, 32])\n"
     ]
    }
   ],
   "source": [
    "in_dims = baskets[0].num_features\n",
    "convolutional_model = weighted_GCN(in_dims,\n",
    "                                   hidden_dims,\n",
    "                                   f1)\n",
    "convoluted_Xbaskets = []\n",
    "for basket_graph_at_t in Xbaskets:\n",
    "    with torch.no_grad():\n",
    "        o = convolutional_model(basket_graph_at_t.x, basket_graph_at_t.edge_index)\n",
    "        convoluted_Xbaskets.append(o)\n",
    "\n",
    "print(f'The newly created list \\'convoluted_Xbaskets\\' is now a {type(convoluted_Xbaskets)} of length {len(convoluted_Xbaskets)},'\n",
    "      f'where each entry is of size {convoluted_Xbaskets[0].size()}')"
   ]
  },
  {
   "cell_type": "markdown",
   "metadata": {
    "pycharm": {
     "name": "#%% md\n"
    }
   },
   "source": [
    "## Part 3: Attention-based Temporal Dependency Learning\n",
    "Now, we will try to learn temporal dependency among products. As we know from everyday life, some elements (products) will appear in our basket quite frequently and regularly, while others will appear irregularly and occasionally. This makes the temporal dependency learning really hard!\n",
    "\n",
    "Previous models, such as RNNs, fail to model this kind of data, because they do not take into account the temporal dependency learning. We are going to construct our model, using self attention, so that we will not loose this information, we are going to construct a temporal dependeny learning component.\n",
    "\n",
    "To make a proper input to this component, we will slightly reshape the sequences we have constructed in the previous step. We will do this to make this masked self-attention module more general. The input sequence will be a 3D tensor of shape `(nodes_num, T_max, features_num)`. Let us first reshape the working example and continue from there."
   ]
  },
  {
   "cell_type": "code",
   "execution_count": 10,
   "metadata": {
    "scrolled": true
   },
   "outputs": [
    {
     "name": "stdout",
     "output_type": "stream",
     "text": [
      "The reshaped 'convoluted_Xbaskets' is now a <class 'torch.Tensor'> of shape torch.Size([88, 10, 32])\n"
     ]
    }
   ],
   "source": [
    "item_embeddings = {j : [] for j in range(len(convoluted_Xbaskets[0]))}\n",
    "for basket in range(len(convoluted_Xbaskets)):\n",
    "    for item in range(len(convoluted_Xbaskets[basket])):\n",
    "        ## add the embeddings for each item to its corresponding temporal index t in the newly created list\n",
    "        item_embeddings[item].append(convoluted_Xbaskets[basket][item].tolist())\n",
    "\n",
    "convoluted_Xbaskets = torch.tensor(list(item_embeddings.values()))\n",
    "print(f'The reshaped \\'convoluted_Xbaskets\\' is now a {type(convoluted_Xbaskets)} of shape {convoluted_Xbaskets.size()}')"
   ]
  },
  {
   "cell_type": "markdown",
   "metadata": {
    "pycharm": {
     "name": "#%% md\n"
    }
   },
   "source": [
    "The inputs to this component are the sequences of embeddings standing for the chosen household $i$, denoted as $\\mathbb{C}_i = \\{C_{i,1},...,C_{i,|\\mathcal{V}_i|}\\} $ where $C_{i,j}=\\{c_{i,j}^1,...,c_{i,j}^T\\}$ are the representations of $v_{i,j}$ over time.\n",
    "With bolded symbol $\\boldsymbol{C}_{i,j} \\in \\mathbb{R}^{t \\times F_1}$ we denote the stacked matrix representation of $C_{i,j}$, where the $t$-th row respresents $c_{i,j}^t$.\n",
    "\n",
    "The output is the temporal information laden shared representation $\\mathbb{Z}_i = \\{z_{i,1},...,z_{i,|\\mathcal{V}_i|}\\}$, where $z_{i,j} \\in \\mathbb{R}^{F_2}$\n",
    "indicates the representation of element $v_{i,j} \\in \\mathcal{V}_i$."
   ]
  },
  {
   "cell_type": "markdown",
   "metadata": {},
   "source": [
    "**Masked self-attention**\n",
    "\n",
    "First part of this component deals with aggregating the stacked representations $\\boldsymbol{C}_{i,j}$ into new representations $Z_{i, j}$ considering temporal dependency for each element. Thus, the new representations are computed as follows\n",
    "\n",
    "$$Z_{i,j} = softmax\\left( \\frac{(C_{i,j}W_q) \\cdot (C_{i,j}W_k)^T}{\\sqrt{F''}} + M_i \\right) \\cdot (C_{i,j}W_v),$$\n",
    "\n",
    "where $W_q \\in \\mathbb{R}^{F_1 \\times F_2}$, $W_k \\in \\mathbb{R}^{F_1 \\times F_2} $, $W_v \\in \\mathbb{R}^{F_1 \\times F_2}$ are trainable parameters and $Z_{i,j} \\in \\mathbb{R}^{T \\times F_2}$ is the stacked representation of $v_{i,j}$'s sequence.\n",
    "With $M_i$ we denote the mask matrix, which is used to avoid the future information leakage and to ensure that only knowledge from previous state is considered. The mask matrix is defined as \n",
    "$$\\begin{equation}\n",
    "  M_i^{t,t'}=\\begin{cases}\n",
    "    0, & \\text{if $t<t'$},\\\\\n",
    "    -\\infty, & \\text{otherwise}.\n",
    "  \\end{cases}\n",
    "\\end{equation}$$\n",
    "\n",
    "**Aggregation** \n",
    "\n",
    "Second part of this component compress the new representations $Z_{i, j}$ into more compact representation of $v_{i, j}$, denoted as $z_{i, j} \\in \\mathbb{R}^{F_2}$.\n",
    "More formally, we aggregate the sequential information into a vectorized representation by the weighted aggregation equation, defined as\n",
    "$$ z_{i, j} = \\left( (Z_{i, j} \\cdot w_{agg} )^T \\cdot Z_{i, j} \\right) ^T,$$\n",
    "where $ w_{agg} \\in \\mathbb{R}^{F_2}$ is a trainable parameter used for learning the importance of different time states.\n",
    "\n",
    "\n",
    "We define the self-attention module and its aggregation module in the following cells:"
   ]
  },
  {
   "cell_type": "code",
   "execution_count": 11,
   "metadata": {},
   "outputs": [],
   "source": [
    "import numpy as np\n",
    "class masked_self_attention(nn.Module):\n",
    "\n",
    "    def __init__(self, input_dim, output_dim, n_heads=4):\n",
    "        super(masked_self_attention, self).__init__()\n",
    "        self.input_dim = input_dim\n",
    "        self.output_dim = output_dim\n",
    "\n",
    "        self.n_heads = n_heads\n",
    "\n",
    "        self.per_head_dim = output_dim // n_heads\n",
    "        \n",
    "        # inicialization of the weights as described above in the text\n",
    "        self.Wq = nn.Linear(input_dim, n_heads * self.per_head_dim, bias=False)\n",
    "        self.Wk = nn.Linear(input_dim, n_heads * self.per_head_dim, bias=False)\n",
    "        self.Wv = nn.Linear(input_dim, n_heads * self.per_head_dim, bias=False)\n",
    "\n",
    "    def forward(self, input_tensor):\n",
    "\n",
    "        \"\"\"\n",
    "        Args:\n",
    "            input_tensor: tensor, shape (nodes_num, T_max, features_num)\n",
    "        Returns:\n",
    "            output: tensor, shape (nodes_num, T_max, output_dim = features_num)\n",
    "        \"\"\"\n",
    "        \n",
    "        seq_length = input_tensor.shape[1]\n",
    "        # tensor, shape (nodes_num, T_max, n_heads * dim_per_head)\n",
    "        Q = self.Wq(input_tensor)\n",
    "        K = self.Wk(input_tensor)\n",
    "        V = self.Wv(input_tensor)\n",
    "        \n",
    "        \"\"\"\n",
    "        TODO: Figure out these transposes/reshapes/permutes (and explain/make them prettier if possible)\n",
    "        \"\"\"\n",
    "        \n",
    "        # multi_head attention\n",
    "        # Q, tensor, shape (nodes_num, n_heads, T_max, dim_per_head)\n",
    "        Q = Q.reshape(input_tensor.shape[0], input_tensor.shape[1], self.n_heads, self.per_head_dim).transpose(1, 2)\n",
    "        # K after transpose, tensor, shape (nodes_num, n_heads, dim_per_head, T_max)\n",
    "        K = K.reshape(input_tensor.shape[0], input_tensor.shape[1], self.n_heads, self.per_head_dim).permute(0, 2, 3, 1)\n",
    "        # V, tensor, shape (nodes_num, n_heads, T_max, dim_per_head)\n",
    "        V = V.reshape(input_tensor.shape[0], input_tensor.shape[1], self.n_heads, self.per_head_dim).transpose(1, 2)\n",
    "\n",
    "        # scaled attention_score, tensor, shape (nodes_num, n_heads, T_max, T_max)\n",
    "        attention_score = Q.matmul(K) / np.sqrt(self.per_head_dim)\n",
    "\n",
    "        # attention_mask, tensor, shape -> (T_max, T_max)  -inf in the top and right\n",
    "        attention_mask = torch.zeros(seq_length, seq_length).masked_fill(\n",
    "            torch.tril(torch.ones(seq_length, seq_length)) == 0, -np.inf)\n",
    "\n",
    "        \n",
    "        \n",
    "        # attention_mask will be broadcast to (nodes_num, n_heads, T_max, T_max)\n",
    "        attention_score = attention_score + attention_mask\n",
    "        \n",
    "        \n",
    "        # (nodes_num, n_heads, T_max, T_max)\n",
    "        attention_score = torch.softmax(attention_score, dim=-1)\n",
    "\n",
    "        # multi_result, tensor, shape (nodes_num, n_heads, T_max, dim_per_head)\n",
    "        multi_head_result = attention_score.matmul(V)\n",
    "        # multi_result, tensor, shape (nodes_num, T_max, n_heads * dim_per_head = output_dim)\n",
    "        # concat multi-head attention results\n",
    "        output = multi_head_result.transpose(1, 2).reshape(input_tensor.shape[0],\n",
    "                                                           seq_length, self.n_heads * self.per_head_dim)\n",
    "        \n",
    "        return output"
   ]
  },
  {
   "cell_type": "code",
   "execution_count": 12,
   "metadata": {},
   "outputs": [],
   "source": [
    "class aggregate_nodes_temporal(nn.Module):\n",
    "\n",
    "    def __init__(self, item_embed_dim):\n",
    "        \n",
    "        \"\"\"\n",
    "        :param item_embed_dim: the dimension of input features\n",
    "        \"\"\"\n",
    "        \n",
    "        super(aggregate_nodes_temporal, self).__init__()\n",
    "\n",
    "        self.Wq = nn.Linear(item_embed_dim, 1, bias=False)\n",
    "\n",
    "    def forward(self, Z):\n",
    "        ### Equation 4 in the paper\n",
    "        \n",
    "        output = self.Wq(Z).transpose(1,2).matmul(Z).transpose(1,2)\n",
    "        return output"
   ]
  },
  {
   "cell_type": "markdown",
   "metadata": {},
   "source": [
    "Finally, let's run our rolling `CHOSEN_HH` example through the two modules."
   ]
  },
  {
   "cell_type": "code",
   "execution_count": 13,
   "metadata": {},
   "outputs": [
    {
     "name": "stdout",
     "output_type": "stream",
     "text": [
      "The preset embedding fim f2 = 32\n",
      "The output 'temporal_Xbaskets' is now a <class 'torch.Tensor'> of shape torch.Size([88, 32])\n"
     ]
    }
   ],
   "source": [
    "print(f'The preset embedding fim f2 = {f2}')\n",
    "model1 = masked_self_attention(input_dim=f1, output_dim=f2)\n",
    "model_2 = aggregate_nodes_temporal(item_embed_dim=f2)\n",
    "h = model1(convoluted_Xbaskets)\n",
    "temporal_Xbaskets = model_2(h)[:,:,0]\n",
    "\n",
    "print(f'The output \\'temporal_Xbaskets\\' is now a {type(temporal_Xbaskets)} of shape {temporal_Xbaskets.size()}')"
   ]
  },
  {
   "cell_type": "markdown",
   "metadata": {},
   "source": [
    "## Part 4: Gated Information Fusing\n",
    "With the previous two components, we've learned the dynamic temporal representations of the baskets. However, we need to fuse this knowledge with our latent fammiliarity with all possible items in the store. For this, we will return to the dictionary `reverse_uid` that we initialized in the beginning.\n",
    "\n",
    "Using it, we'll initialize a matrix $\\textbf{E} \\in \\mathbb{R}^{\\hat{N} \\times F}$, which could be seen as a static representation of all the elements. It is shared by all households. This is an advantage, as we could use it also for sparse data and we do not need any additional information about the purchasing household.\n",
    "\n",
    "We'll fuse this matrix of dimensionality $(\\hat{N}, F_2),$ with the compact temporal element representations w.r.t. to household  $u_i$ we constructed in the previous step.\n",
    "\n",
    "We use $E_i$ to denote the hidden state of household $i$, which is initialized as $E$. The most recent state $E^{update}_{i, I(j)}$ is achieved by updating the household state $E_i$ (more precisely, the representations of elements appearing in $\\mathcal{V}_i$ are updated considering both the static and dynamic information. For the other elements, the original static representation is used) iteratively as follows:\n",
    "\n",
    "$$E^{update}_{i, I(j)} = (1- \\beta_{i,I(j)} \\cdot \\gamma_{I(j)}) \\cdot E_{i,I(j)} + (\\beta_{i,I(j)} \\cdot \\gamma_{I(j)}) \\cdot z_{i,j},$$ \n",
    "\n",
    "where $I(\\cdot)$ is a function that maps element $v_{i,j}$ to its corresponding index in $E_i$ (in our case, the convinient `reverse_uid` dictionary) and $\\beta_{i,j}$ and $\\gamma_j$ are the j-th dimention of $\\beta_i$ and $\\gamma$. Vector $\\gamma \\in \\mathbb{R}^{\\hat{N}}$ represents the trainable parameter, initialized with values between $0$ and $1$, which controls the importance of the static and dynamic representations and vector $\\beta_i \\in \\mathbb{R}^{\\hat{N}}$ represents an indicator, meaning it contains either 0 or 1, depending on wether the corresponding element is in $\\mathcal{V}_i$ or not.\n",
    "\n",
    "We define our gated update module in the following cell:\n",
    "\n",
    "<font color=\"red\">     \n",
    "TODO: Check if we can reduce the number of arguments this model's constructor and forward function take. Don't forget to fix all the calls of this function if tweaking. </font>"
   ]
  },
  {
   "cell_type": "code",
   "execution_count": 14,
   "metadata": {},
   "outputs": [],
   "source": [
    "class global_gated_update(nn.Module):\n",
    "    ### num_all_unique_items, f0\n",
    "    def __init__(self, items_total, f0, item_dict):\n",
    "        super(global_gated_update, self).__init__()\n",
    "        \n",
    "        self.num_items_total = items_total\n",
    "        self.embedding_dim = f0\n",
    "        self.E = torch.randn((self.num_items_total, self.embedding_dim))\n",
    "        self.gamma = nn.Parameter(torch.rand(self.num_items_total, 1), requires_grad=True)\n",
    "        self.item_dict = {int(i):item_dict[i] for i in item_dict}\n",
    "        \n",
    "    def forward(self, ids, Z):\n",
    "        num_nodes = len(ids)\n",
    "        beta = torch.zeros(self.num_items_total, 1)\n",
    "        ### masking\n",
    "        nodes_in_graph = ids\n",
    "        rows_in_E = [self.item_dict[code.item()] for code in nodes_in_graph]\n",
    "\n",
    "        beta[rows_in_E] = 1\n",
    "        ### update\n",
    "        E_clone = self.E.clone()\n",
    "        ei_update = (1 - beta * self.gamma) * E_clone\n",
    "        #embed[output_nodes, :] = embed[output_nodes, :] + self.gamma[output_nodes] * output_node_features\n",
    "        #print(self.gamma[rows_in_E] * Z)\n",
    "        ei_update[rows_in_E, :] = ei_update[rows_in_E, :] + self.gamma[rows_in_E] * Z        \n",
    "        return ei_update       "
   ]
  },
  {
   "cell_type": "markdown",
   "metadata": {
    "pycharm": {
     "name": "#%% md\n"
    }
   },
   "source": [
    "And now, let's send our `CHOSEN_HH` training baskets through! \n",
    "\n",
    "<font color=\"red\"> TODO: The code gets needleessly ugly here. We need to optimize the notebook so that we don't have to refractor reverse_uid here. Also, we need to figure out how to avoid inputting `ids` as a parameter into this (and subsequently, the master) model. </font>"
   ]
  },
  {
   "cell_type": "code",
   "execution_count": 15,
   "metadata": {
    "scrolled": true
   },
   "outputs": [
    {
     "name": "stdout",
     "output_type": "stream",
     "text": [
      "The output 'E_Xbaskets' is now a <class 'torch.Tensor'> of shape torch.Size([88, 32]). It will be used for prediction.\n"
     ]
    }
   ],
   "source": [
    "model_fuse = global_gated_update(num_all_unique_items, f0, reverse_uid)\n",
    "ids = torch.tensor([int(i) for i in list(shopping_per_hh[CHOSEN_HH][0].id.values())])\n",
    "E_Xbaskets = model_fuse(ids, temporal_Xbaskets)\n",
    "print(f'The output \\'E_Xbaskets\\' is now a {type(temporal_Xbaskets)} of shape {temporal_Xbaskets.size()}. It will be used for prediction.')"
   ]
  },
  {
   "cell_type": "markdown",
   "metadata": {
    "pycharm": {
     "name": "#%% md\n"
    }
   },
   "source": [
    "## Putting it all together\n",
    "In the cells above, we ran a test example through the modules of our model one by one. Now, we define a *master* class which will include all of the above modules. After computing the representations like the `E_Xbaskets` we saw above, it will simply add a prediction layer `fc_output`, that can be formalized as:\n",
    "$$\\hat{y}_i = sigmoid(E_i^{update} \\cdot w_0 + b_0),$$ where $w_0 \\in \\mathbb{R}^F$ and $b_0 \\in \\mathbb{R}$ are the trainable parameters."
   ]
  },
  {
   "cell_type": "code",
   "execution_count": 16,
   "metadata": {},
   "outputs": [],
   "source": [
    "class temporal_set_prediction(nn.Module):\n",
    "    def __init__(self, items_total, item_embedding_dim, hidden_dims, reverse_uid):\n",
    "        \"\"\"\n",
    "        :param items_total: int\n",
    "        :param item_embedding_dim: int\n",
    "        :param n_heads: int\n",
    "        :param attention_aggregate: sre\n",
    "        \"\"\"\n",
    "        super(temporal_set_prediction, self).__init__()\n",
    "\n",
    "        ### To je njegov f0\n",
    "        self.item_embedding_dim = item_embedding_dim\n",
    "        \n",
    "        self.reverse_uid = reverse_uid\n",
    "        ## to je njegov num_all_unique_items\n",
    "        self.items_total = items_total\n",
    "        \n",
    "        self.hidden_dims = hidden_dims\n",
    "        \n",
    "        \n",
    "        self.our_gcn = weighted_GCN(1, self.hidden_dims, self.item_embedding_dim)\n",
    "        \n",
    "        \"\"\"\n",
    "        self.stacked_gcn = stacked_weighted_GCN_blocks([weighted_GCN(item_embedding_dim,\n",
    "                                                                     [item_embedding_dim],\n",
    "                                                                     item_embedding_dim)])\n",
    "        \"\"\"\n",
    "\n",
    "        self.masked_self_attention = masked_self_attention(input_dim=self.item_embedding_dim,\n",
    "                                                           output_dim=self.item_embedding_dim)\n",
    "\n",
    "        self.aggregate_nodes_temporal_feature = aggregate_nodes_temporal(self.item_embedding_dim)\n",
    "\n",
    "\n",
    "        \n",
    "        #\n",
    "        #(num_all_unique_items, f0, reverse_uid\n",
    "        #\n",
    "        self.global_gated_update = global_gated_update(items_total=self.items_total,\n",
    "                                                       f0=self.item_embedding_dim,\n",
    "                                                       item_dict=self.reverse_uid)\n",
    "\n",
    "        self.fc_output = nn.Sequential(nn.Linear(self.item_embedding_dim, 1, bias=True),\n",
    "                                       nn.Sigmoid())\n",
    "\n",
    "\n",
    "    \n",
    "    def forward(self, graph_list_for_hh, hh_ids):\n",
    "        embeddings_at_t = []\n",
    "        for graph in graph_list_for_hh:\n",
    "            o = self.our_gcn(graph.x,graph.edge_index)\n",
    "            embeddings_at_t.append(o)\n",
    "        item_embeddings = {j : [] for j in range(len(embeddings_at_t[0]))}\n",
    "        for t in range(len(embeddings_at_t)):\n",
    "            for j in range(len(embeddings_at_t[t])):\n",
    "                ## and add the embeddings for each item to its corresponding temporal index t in the newly created list\n",
    "                item_embeddings[j].append(embeddings_at_t[t][j].tolist())\n",
    "\n",
    "        ## convert the final 3D array to a tensor and save it to the dictionary for further use.\n",
    "        h = torch.tensor(list(item_embeddings.values()))\n",
    "\n",
    "        h = self.masked_self_attention(h)\n",
    "        h = self.aggregate_nodes_temporal_feature(h)\n",
    "        h = h[:,:,0]\n",
    "        #ids = torch.tensor([i[0] for i in list(graph_list_for_hh[0].id.values())])\n",
    "        h = self.global_gated_update(hh_ids, h)\n",
    "        out = self.fc_output(h).squeeze(dim=-1)\n",
    "        return out"
   ]
  },
  {
   "cell_type": "markdown",
   "metadata": {},
   "source": [
    "Now, let's send the original `XBaskets` thorugh the entire model!"
   ]
  },
  {
   "cell_type": "code",
   "execution_count": 17,
   "metadata": {},
   "outputs": [
    {
     "name": "stdout",
     "output_type": "stream",
     "text": [
      "To make sure if our prediction is working, we can compare its shape to the y tensor, stored in Ybaskets:\n",
      " (torch.Size([24375]) == (torch.Size([24375])!\n",
      "\n",
      "Because we're running it through a Sigmoid, the values in the prediction should be in [0, 1]:\n",
      "tensor([0.5380, 0.6149, 0.3885,  ..., 0.5371, 0.4702, 0.3502])\n"
     ]
    }
   ],
   "source": [
    "final_model = temporal_set_prediction(num_all_unique_items, f0, hidden_dims, reverse_uid)\n",
    "with torch.no_grad():\n",
    "    prediction = final_model(Xbaskets, ids)\n",
    "print(f'To make sure if our prediction is working, we can compare its shape to the y tensor, stored in Ybaskets:\\n'\n",
    "      f''\n",
    "      f' ({prediction.size()} == ({Ybaskets.y.to_dense().size()}!\\n')\n",
    "\n",
    "print(f'Because we\\'re running it through a Sigmoid, the values in the prediction should be in [0, 1]:\\n{prediction}')"
   ]
  },
  {
   "cell_type": "markdown",
   "metadata": {
    "pycharm": {
     "name": "#%% md\n"
    }
   },
   "source": [
    "## TRAINING\n",
    "In the following cells we define some utility functions for training and evaluating our model."
   ]
  },
  {
   "cell_type": "markdown",
   "metadata": {
    "pycharm": {
     "name": "#%% md\n"
    }
   },
   "source": [
    "<font color=\"red\"> TODO!!! Ta koda spodi je delala, ampak zdej je neki narobe z Loss Functioni. Problem sm opisu na [Stack Overflow](https://stackoverflow.com/questions/70320940/nonsensical-torch-nn-bceloss-runtimeerror-all-elements-of-input-should-be-betwe). Ne vem kako popravit. Need help. Ko se to popravi, bi načeloma moglo delat. </font>"
   ]
  },
  {
   "cell_type": "code",
   "execution_count": 18,
   "metadata": {},
   "outputs": [],
   "source": [
    "def train(model, ids, train_list, test_data, optimizer, loss_fn):\n",
    "    # TODO: Implement a function that trains the model by \n",
    "    # using the given optimizer and loss_fn.\n",
    "    model.train()\n",
    "    optimizer.zero_grad()\n",
    "    \n",
    "    out = model(train_list, ids)\n",
    "    loss = loss_fn(out, test_data.y.to_dense())\n",
    "\n",
    "\n",
    "    loss.backward()\n",
    "    optimizer.step()\n",
    "\n",
    "    return loss.item()\n",
    "\n",
    "\n",
    "def eval_loss(model, ids, train_list, test_data, loss_fn):\n",
    "    model.eval()\n",
    "    out = model(train_list, ids)\n",
    "    loss = loss_fn(out, test_data.y.to_dense())\n",
    "    return loss.item()"
   ]
  },
  {
   "cell_type": "markdown",
   "metadata": {},
   "source": [
    "In this model fitting example, we will select only such households that made at least 5 purchases in the observed period.\n",
    "\n",
    "Since we encode the ground-truths as multi-hot encodings, we can use Binary cross entropy as a good proxy loss for our desired outcome. Henc, we use - `torch.nn.BCELoss`.\n",
    "\n",
    "We will train our model using the Adam optimizer, using the starting learning rate of 1e-4. \n",
    "\n",
    "<font color=\"red\"> TODO: Currently, we're not using any normalization. Add a note on it here if we change this.</font>\n",
    "\n",
    "To boost the number of our training samples, we will employ a sliding window training approach. For each household in the training set, we'll train several times, each time predicting a basket *t* by learning from baskets $\\{1, \\dots, t-1\\}$.\n",
    "\n",
    "For our loss estimation, we employ a 80/20 holdout policy on the level of households. An additional 15% of all training households are reserved for validation, with a different set being picked in each training epoch. We use the handy functions from `sklearn.model_selection` to efficiently perform all of these dataset splits.\n",
    "\n",
    "Finally, we employ an early stopping mechanism, where we require the validation performance to improve over a rolling period of three epochs.\n"
   ]
  },
  {
   "cell_type": "code",
   "execution_count": 53,
   "metadata": {
    "scrolled": true
   },
   "outputs": [
    {
     "name": "stderr",
     "output_type": "stream",
     "text": [
      "Training Households: 100%|██████████| 537/537 [01:55<00:00,  4.65it/s]\n",
      "Calculating Validation Loss: 100%|██████████| 95/95 [00:07<00:00, 13.29it/s]\n",
      "Calculating Test Loss: 100%|██████████| 159/159 [00:09<00:00, 16.49it/s]\n"
     ]
    },
    {
     "name": "stdout",
     "output_type": "stream",
     "text": [
      "Epoch: 00, Train: 1344.0827,   Valid: 46.55Test: 71.98  epoch-best_valid_epoch: 0\n"
     ]
    },
    {
     "name": "stderr",
     "output_type": "stream",
     "text": [
      "Training Households: 100%|██████████| 537/537 [01:58<00:00,  4.54it/s]\n",
      "Calculating Validation Loss: 100%|██████████| 95/95 [00:07<00:00, 12.68it/s]\n",
      "Calculating Test Loss: 100%|██████████| 159/159 [00:09<00:00, 15.92it/s]\n"
     ]
    },
    {
     "name": "stdout",
     "output_type": "stream",
     "text": [
      "Epoch: 01, Train: 545.3470,   Valid: 35.04Test: 50.93  epoch-best_valid_epoch: 0\n"
     ]
    },
    {
     "name": "stderr",
     "output_type": "stream",
     "text": [
      "Training Households: 100%|██████████| 537/537 [01:57<00:00,  4.56it/s]\n",
      "Calculating Validation Loss: 100%|██████████| 95/95 [00:07<00:00, 13.33it/s]\n",
      "Calculating Test Loss: 100%|██████████| 159/159 [00:09<00:00, 16.30it/s]\n"
     ]
    },
    {
     "name": "stdout",
     "output_type": "stream",
     "text": [
      "Epoch: 02, Train: 231.8468,   Valid: 34.27Test: 48.91  epoch-best_valid_epoch: 0\n"
     ]
    },
    {
     "name": "stderr",
     "output_type": "stream",
     "text": [
      "Training Households: 100%|██████████| 537/537 [01:58<00:00,  4.53it/s]\n",
      "Calculating Validation Loss: 100%|██████████| 95/95 [00:07<00:00, 13.28it/s]\n",
      "Calculating Test Loss: 100%|██████████| 159/159 [00:10<00:00, 15.58it/s]\n"
     ]
    },
    {
     "name": "stdout",
     "output_type": "stream",
     "text": [
      "Epoch: 03, Train: 101.7024,   Valid: 30.63Test: 42.97  epoch-best_valid_epoch: 0\n"
     ]
    },
    {
     "name": "stderr",
     "output_type": "stream",
     "text": [
      "Training Households: 100%|██████████| 537/537 [02:03<00:00,  4.35it/s]\n",
      "Calculating Validation Loss: 100%|██████████| 95/95 [00:07<00:00, 13.40it/s]\n",
      "Calculating Test Loss: 100%|██████████| 159/159 [00:10<00:00, 15.86it/s]\n"
     ]
    },
    {
     "name": "stdout",
     "output_type": "stream",
     "text": [
      "Epoch: 04, Train: 46.3242,   Valid: 21.81Test: 29.78  epoch-best_valid_epoch: 0\n"
     ]
    },
    {
     "name": "stderr",
     "output_type": "stream",
     "text": [
      "Training Households: 100%|██████████| 537/537 [01:58<00:00,  4.52it/s]\n",
      "Calculating Validation Loss: 100%|██████████| 95/95 [00:07<00:00, 12.74it/s]\n",
      "Calculating Test Loss: 100%|██████████| 159/159 [00:10<00:00, 15.74it/s]\n"
     ]
    },
    {
     "name": "stdout",
     "output_type": "stream",
     "text": [
      "Epoch: 05, Train: 22.7419,   Valid: 2.69Test: 3.04  epoch-best_valid_epoch: 0\n"
     ]
    },
    {
     "name": "stderr",
     "output_type": "stream",
     "text": [
      "Training Households: 100%|██████████| 537/537 [01:59<00:00,  4.48it/s]\n",
      "Calculating Validation Loss: 100%|██████████| 95/95 [00:07<00:00, 12.93it/s]\n",
      "Calculating Test Loss: 100%|██████████| 159/159 [00:10<00:00, 15.46it/s]\n"
     ]
    },
    {
     "name": "stdout",
     "output_type": "stream",
     "text": [
      "Epoch: 06, Train: 12.6166,   Valid: 2.63Test: 2.94  epoch-best_valid_epoch: 0\n"
     ]
    },
    {
     "name": "stderr",
     "output_type": "stream",
     "text": [
      "Training Households: 100%|██████████| 537/537 [01:59<00:00,  4.49it/s]\n",
      "Calculating Validation Loss: 100%|██████████| 95/95 [00:07<00:00, 12.92it/s]\n",
      "Calculating Test Loss: 100%|██████████| 159/159 [00:10<00:00, 15.61it/s]\n"
     ]
    },
    {
     "name": "stdout",
     "output_type": "stream",
     "text": [
      "Epoch: 07, Train: 8.3846,   Valid: 3.00Test: 3.65  epoch-best_valid_epoch: 1\n"
     ]
    },
    {
     "name": "stderr",
     "output_type": "stream",
     "text": [
      "Training Households: 100%|██████████| 537/537 [01:59<00:00,  4.50it/s]\n",
      "Calculating Validation Loss: 100%|██████████| 95/95 [00:07<00:00, 13.16it/s]\n",
      "Calculating Test Loss: 100%|██████████| 159/159 [00:10<00:00, 15.60it/s]\n"
     ]
    },
    {
     "name": "stdout",
     "output_type": "stream",
     "text": [
      "Epoch: 08, Train: 6.7873,   Valid: 2.63Test: 3.04  epoch-best_valid_epoch: 2\n"
     ]
    },
    {
     "name": "stderr",
     "output_type": "stream",
     "text": [
      "Training Households: 100%|██████████| 537/537 [02:00<00:00,  4.46it/s]\n",
      "Calculating Validation Loss: 100%|██████████| 95/95 [00:07<00:00, 12.50it/s]\n",
      "Calculating Test Loss: 100%|██████████| 159/159 [00:10<00:00, 15.84it/s]\n"
     ]
    },
    {
     "name": "stdout",
     "output_type": "stream",
     "text": [
      "Epoch: 09, Train: 6.2700,   Valid: 2.67Test: 3.18  epoch-best_valid_epoch: 3\n"
     ]
    },
    {
     "name": "stderr",
     "output_type": "stream",
     "text": [
      "Training Households: 100%|██████████| 537/537 [01:54<00:00,  4.68it/s]\n",
      "Calculating Validation Loss: 100%|██████████| 95/95 [00:06<00:00, 13.93it/s]\n",
      "Calculating Test Loss: 100%|██████████| 159/159 [00:09<00:00, 16.39it/s]"
     ]
    },
    {
     "name": "stdout",
     "output_type": "stream",
     "text": [
      "Epoch: 10, Train: 5.8667,   Valid: 2.86Test: 3.56  epoch-best_valid_epoch: 4\n",
      "Early Stopping.\n"
     ]
    },
    {
     "name": "stderr",
     "output_type": "stream",
     "text": [
      "\n"
     ]
    }
   ],
   "source": [
    "from torch_geometric.loader import DataLoader\n",
    "from sklearn.model_selection import train_test_split, TimeSeriesSplit\n",
    "import copy\n",
    "from torchmetrics import Recall\n",
    "import statistics as st\n",
    "f0 = 32\n",
    "\n",
    "\n",
    "model = temporal_set_prediction(num_all_unique_items, f0, hidden_dims, reverse_uid)\n",
    "\n",
    "## make the dictionary into a list that we'll be train-test splitting over\n",
    "list_of_dats = [shopping_per_hh[hh] for hh in shopping_per_hh]\n",
    "\n",
    "### filter the list so that we only have households with at least 5 observations\n",
    "at_least_5 = [i for i in list_of_dats if len(i)>=5]\n",
    "\n",
    "## get the (joint) training data and the test data.\n",
    "training_data, test_idx = train_test_split(\n",
    "    at_least_5, test_size=0.2, random_state=42, shuffle=False)\n",
    "\n",
    "## Put the test data in its data loader.\n",
    "test_loader = DataLoader(test_idx)\n",
    "\n",
    "### initialize the loss, evaluators, optimizer and rolling window splitter\n",
    "### that we're gonna us during training.\n",
    "loss_fn = nn.BCELoss()\n",
    "rolling_window_splitter = TimeSeriesSplit(test_size=1, gap=0, n_splits = 4)\n",
    "\n",
    "\n",
    "#optimizer = torch.optim.Adam(model.parameters(), lr=0.0005, weight_decay=1e-5)\n",
    "optimizer = torch.optim.Adam(model.parameters(), lr=0.0005)\n",
    "\n",
    "\n",
    "## specify the number of epochs to train for. In our case, early stopping comes into account much earlier.\n",
    "n_epochs = 50\n",
    "\n",
    "best_model = None\n",
    "best_valid_loss= np.inf\n",
    "best_valid_epoch = 0\n",
    "\n",
    "for epoch in range(n_epochs):\n",
    "    num_skipped = 0\n",
    "    ## On each iteration, we change which data we use for validation.\n",
    "    ## Then, wee put them into loaders\n",
    "    train_idx, valid_idx= train_test_split(\n",
    "        training_data, test_size=0.15, random_state=200, shuffle=True)\n",
    "\n",
    "\n",
    "\n",
    "\n",
    "    tl = DataLoader(train_idx)\n",
    "    vl = DataLoader(valid_idx)\n",
    "    loss = 0\n",
    "\n",
    "\n",
    "    for batch in tqdm(tl, desc='Training Households'):\n",
    "        # we get 4 splits from our household (we learn from each household multiple times).\n",
    "        ids = torch.tensor([int(i[0]) for i in list(batch[-1].id.values())])\n",
    "        loss += train(model, ids, batch[:-1], batch[-1], optimizer, loss_fn)\n",
    "        for learn_from, target_in_list in rolling_window_splitter.split(batch):\n",
    "\n",
    "                target = batch[target_in_list[0]]\n",
    "                lrnd = [batch[i] for i in learn_from]\n",
    "                loss += train(model, ids, lrnd, target, optimizer, loss_fn)\n",
    "\n",
    "\n",
    "\n",
    "    valid_loss = 0\n",
    "    test_loss = 0\n",
    "    for batch in tqdm(vl, desc='Calculating Validation Loss'):\n",
    "        ids = torch.tensor([int(i[0]) for i in list(batch[-1].id.values())])\n",
    "        valid_loss += eval_loss(model, ids, batch[:-1], batch[-1], loss_fn)\n",
    "\n",
    "\n",
    "\n",
    "    for batch in tqdm(test_loader, desc='Calculating Test Loss'):        # we get 4 splits from our household (we learn from each household multiple times).\n",
    "        ids = torch.tensor([int(i[0]) for i in list(batch[-1].id.values())])\n",
    "        test_loss += eval_loss(model, ids, batch[:-1], batch[-1], loss_fn)\n",
    "\n",
    "\n",
    "    if valid_loss < best_valid_loss:\n",
    "        best_valid_loss = valid_loss\n",
    "        best_model = copy.deepcopy(model)\n",
    "        best_valid_epoch = epoch\n",
    "\n",
    "    # todo - this loss isn't the actual loss.\n",
    "    print(f'Epoch: {epoch:02d}, '\n",
    "      f'Train: {loss:.4f},   '\n",
    "      f'Valid: {valid_loss:.2f}'\n",
    "      f'Test: {test_loss:.2f} '\n",
    "          f' epoch-best_valid_epoch: {epoch-best_valid_epoch}')\n",
    "\n",
    "    if epoch-best_valid_epoch > 3:\n",
    "        print('Early Stopping.')\n",
    "        break"
   ]
  },
  {
   "cell_type": "markdown",
   "metadata": {},
   "source": [
    "For further evaluation, let's select the model that performed best on the validation set."
   ]
  },
  {
   "cell_type": "code",
   "execution_count": 54,
   "metadata": {},
   "outputs": [],
   "source": [
    "model = best_model\n",
    "with open('..\\\\data\\\\pickles\\\\models\\\\model.pkl.gz', 'wb') as f:\n",
    "    pickle.dump(best_model, f)"
   ]
  },
  {
   "cell_type": "markdown",
   "metadata": {
    "pycharm": {
     "name": "#%% md\n"
    }
   },
   "source": [
    "## EVALUATION\n",
    "We've seen that the model's performance was improving on the heldout testing set on each training epoch already. However, BCE is not a very interpretable loss. We need to "
   ]
  },
  {
   "cell_type": "markdown",
   "source": [
    "We can read the cached model here:"
   ],
   "metadata": {
    "collapsed": false,
    "pycharm": {
     "name": "#%% md\n"
    }
   }
  },
  {
   "cell_type": "code",
   "execution_count": 55,
   "outputs": [],
   "source": [
    " with open('..\\\\data\\\\pickles\\\\models\\\\model.pkl.gz', 'rb') as f:\n",
    "    model = pickle.load(f)"
   ],
   "metadata": {
    "collapsed": false,
    "pycharm": {
     "name": "#%%\n"
    }
   }
  },
  {
   "cell_type": "code",
   "execution_count": 56,
   "metadata": {
    "pycharm": {
     "name": "#%%\n"
    }
   },
   "outputs": [],
   "source": [
    "from statistics import mean, stdev\n",
    "from matplotlib import pyplot as plt\n",
    "import seaborn as sns\n",
    "import pandas as pd\n",
    "\n",
    "def RatK(model, test_loader, show_plot=False):\n",
    "    RaK = {i : [] for i in range(10, 100, 10)}\n",
    "    for batch in tqdm(test_loader, desc='testing'):\n",
    "        ids = torch.tensor([int(i[0]) for i in list(batch[-1].id.values())])\n",
    "        train_list = batch[:-1]\n",
    "        model.eval()\n",
    "        with torch.no_grad():\n",
    "            out = model(train_list, ids)\n",
    "        for K in range(10,100,10):\n",
    "            RaK[K].append(sum(el in torch.argsort(out, descending=True)[:K] for el in batch[-1].y.to_dense().nonzero())/len(batch[-1].y.to_dense().nonzero()))\n",
    "\n",
    "\n",
    "    plot = {'K' : [], 'RatK' : [], 'plus' : [], 'minus' : [], 'stdev' : []}\n",
    "    for K in RaK:\n",
    "        plot['K'].append(K)\n",
    "        plot['RatK'].append(mean(RaK[K]))\n",
    "        plot['plus'].append(mean(RaK[K])+stdev(RaK[K]))\n",
    "        plot['minus'].append(mean(RaK[K])-stdev(RaK[K]))\n",
    "        plot['stdev'].append(stdev(RaK[K]))\n",
    "\n",
    "    RaKdf = pd.DataFrame(RaK)\n",
    "    plotdf = pd.DataFrame(plot)\n",
    "    melted = RaKdf.melt()\n",
    "\n",
    "    plt.style.use('seaborn')\n",
    "    size = (15, 5)\n",
    "    fig, ax = plt.subplots(1,2, figsize=size)\n",
    "    sns.barplot(data=melted, x='variable', y='value', ax = ax[0])\n",
    "    ax[0].set_xlabel('K')\n",
    "    ax[0].set_ylabel('Recall @ K')\n",
    "    ax[0].set_ylim(0, 1)\n",
    "    sns.lineplot(data=plotdf, x='K', y='RatK', ax=ax[1], alpha=1, ls='-', color='blue')\n",
    "    sns.lineplot(data=plotdf, x='K', y='plus', ax=ax[1], alpha=0.8, ls='--', color='blue')\n",
    "    sns.lineplot(data=plotdf, x='K', y='minus', ax=ax[1], alpha=0.8, ls='--', color='blue')\n",
    "    ax[1].set_ylabel('Recall@K')\n",
    "    ax[1].set_ylim(0, 1)\n",
    "    plt.suptitle('Recall@K for different values of K', fontsize=20)\n",
    "    if show_plot:\n",
    "        fig.show()\n",
    "    return {'df' : plotdf, 'fig' : fig}"
   ]
  },
  {
   "cell_type": "code",
   "execution_count": 52,
   "metadata": {},
   "outputs": [
    {
     "name": "stderr",
     "output_type": "stream",
     "text": [
      "testing: 100%|██████████| 159/159 [00:42<00:00,  3.70it/s]\n"
     ]
    },
    {
     "name": "stdout",
     "output_type": "stream",
     "text": [
      "{'df':     K      RatK      plus     minus     stdev\n",
      "0  10  0.000000  0.000000  0.000000  0.000000\n",
      "1  20  0.000000  0.000000  0.000000  0.000000\n",
      "2  30  0.000000  0.000000  0.000000  0.000000\n",
      "3  40  0.000000  0.000000  0.000000  0.000000\n",
      "4  50  0.000000  0.000000  0.000000  0.000000\n",
      "5  60  0.000000  0.000000  0.000000  0.000000\n",
      "6  70  0.000000  0.000000  0.000000  0.000000\n",
      "7  80  0.000286  0.003891 -0.003319  0.003605\n",
      "8  90  0.000286  0.003891 -0.003319  0.003605, 'fig': <Figure size 1080x360 with 2 Axes>}\n"
     ]
    },
    {
     "name": "stderr",
     "output_type": "stream",
     "text": [
      "C:\\Users\\vs6309\\AppData\\Local\\Temp/ipykernel_17912/2170640356.py:44: UserWarning: Matplotlib is currently using module://matplotlib_inline.backend_inline, which is a non-GUI backend, so cannot show the figure.\n",
      "  fig.show()\n"
     ]
    },
    {
     "data": {
      "text/plain": "<Figure size 1080x360 with 2 Axes>",
      "image/png": "[encoded data removed]"
     },
     "metadata": {},
     "output_type": "display_data"
    }
   ],
   "source": [
    "results = RatK(model, test_loader, True)\n",
    "print(results)"
   ]
  },
  {
   "cell_type": "code",
   "execution_count": 57,
   "metadata": {},
   "outputs": [],
   "source": [
    "GLOBAL_VALUE_COUNTS = original_csv.PRODUCT_ID.value_counts()\n",
    "def top_K(K):\n",
    "    codes = list(GLOBAL_VALUE_COUNTS[:K].reset_index()['index'])\n",
    "    pred = torch.zeros(num_all_unique_items)\n",
    "    for code in codes:\n",
    "        pred[reverse_uid[str(code)]] = 1\n",
    "    return pred\n",
    "\n",
    "\n",
    "def hh_top(K, Xbaskets):\n",
    "    total = torch.zeros(num_all_unique_items)\n",
    "    for batch in Xbaskets[:-1]:\n",
    "        total += batch.y.to_dense()\n",
    "    indices = torch.argsort(total, descending=True)[:K]\n",
    "    pred = torch.zeros(num_all_unique_items)\n",
    "    for i in indices:\n",
    "        pred[i] = 1\n",
    "    return pred"
   ]
  },
  {
   "cell_type": "code",
   "execution_count": 67,
   "outputs": [
    {
     "name": "stderr",
     "output_type": "stream",
     "text": [
      "Calculating effect of X-size: 100%|██████████| 159/159 [00:29<00:00,  5.42it/s]\n",
      "Calculating baselines: 100%|██████████| 159/159 [00:54<00:00,  2.93it/s]\n"
     ]
    },
    {
     "data": {
      "text/plain": "<Figure size 864x432 with 2 Axes>",
      "image/png": "[encoded data removed]"
     },
     "metadata": {},
     "output_type": "display_data"
    }
   ],
   "source": [
    "def baselines(model, top_K, hh_top, test_loader, show_plot=True, save_fig=False):\n",
    "    results2 = {'#baskets' : [], 'R@30' : []}\n",
    "    for batch in tqdm(test_loader, desc='Calculating effect of X-size'):\n",
    "        ids = torch.tensor([int(i[0]) for i in list(batch[-1].id.values())])\n",
    "        model.eval()\n",
    "        for size in [1,2,4,8,15,20,30]:\n",
    "            try:\n",
    "                train_list = batch[:size]\n",
    "                target = batch[size]\n",
    "                with torch.no_grad():\n",
    "                    output = model(train_list, ids)\n",
    "                results2['#baskets'].append(size)\n",
    "                results2['R@30'].append(sum(el in torch.argsort(output, descending=True)[:30] for el in  target.y.to_dense().nonzero())/len(target.y.to_dense().nonzero()))\n",
    "            except IndexError: continue\n",
    "\n",
    "\n",
    "\n",
    "\n",
    "    results = {'model' : [], 'K' : [], 'R@K' : []}\n",
    "    for batch in tqdm(test_loader, desc='Calculating baselines'):\n",
    "        ids = torch.tensor([int(i[0]) for i in list(batch[-1].id.values())])\n",
    "        train_list = batch[:-1]\n",
    "        model.eval()\n",
    "        with torch.no_grad():\n",
    "            my_outout = model(train_list, ids)\n",
    "        for K in range(10,100,10):\n",
    "            results['model'].append('Our model')\n",
    "            results['K'].append(K)\n",
    "            results['R@K'].append(sum(el in torch.argsort(my_outout, descending=True)[:K] for el in batch[-1].y.to_dense().nonzero())/len(batch[-1].y.to_dense().nonzero()))\n",
    "\n",
    "            pred_topK = top_K(K)\n",
    "            results['model'].append('top_K')\n",
    "            results['K'].append(K)\n",
    "            results['R@K'].append(sum(el in torch.argsort(pred_topK, descending=True)[:K] for el in batch[-1].y.to_dense().nonzero())/len(batch[-1].y.to_dense().nonzero()))\n",
    "\n",
    "            results['model'].append('hh_top_K')\n",
    "            results['K'].append(K)\n",
    "            pred_hh_top = hh_top(K, train_list)\n",
    "            results['R@K'].append(sum(el in torch.argsort(pred_hh_top, descending=True)[:K] for el in batch[-1].y.to_dense().nonzero())/len(batch[-1].y.to_dense().nonzero()))\n",
    "\n",
    "\n",
    "\n",
    "    df = pd.DataFrame(results)\n",
    "    df2 = pd.DataFrame(results2)\n",
    "    plt.style.use('seaborn')\n",
    "    size = (12, 6)\n",
    "    fig, ax = plt.subplots(1,2, figsize=size)\n",
    "    sns.lineplot(data=df, x='K', y='R@K', hue='model', ax=ax[0])\n",
    "    sns.lineplot(data=df2, x='#baskets', y='R@30', ax=ax[1])\n",
    "    ax[0].set_xlabel('K')\n",
    "    ax[0].set_ylabel('Recall @ K')\n",
    "    ax[0].set_ylim(0,1)\n",
    "    ax[0].set_title('Recall@K for different values of K')\n",
    "    ax[1].set_title('Recall@30 for different sizes of training Datasets')\n",
    "    ax[1].set_xlabel('# of training baskets')\n",
    "    ax[1].set_ylabel('Recall @ 30')\n",
    "    ax[1].set_ylim(0,1)\n",
    "    plt.suptitle('Evaluation', fontsize=20)\n",
    "\n",
    "\n",
    "    return {'df' : df, 'fig' : fig, 'df2' : df2}\n",
    "results = baselines(model, top_K, hh_top, test_loader, True)"
   ],
   "metadata": {
    "collapsed": false,
    "pycharm": {
     "name": "#%%\n"
    }
   }
  },
  {
   "cell_type": "code",
   "execution_count": null,
   "outputs": [],
   "source": [],
   "metadata": {
    "collapsed": false,
    "pycharm": {
     "name": "#%%\n"
    }
   }
  }
 ],
 "metadata": {
  "kernelspec": {
   "display_name": "Python 3 (ipykernel)",
   "language": "python",
   "name": "python3"
  },
  "language_info": {
   "codemirror_mode": {
    "name": "ipython",
    "version": 3
   },
   "file_extension": ".py",
   "mimetype": "text/x-python",
   "name": "python",
   "nbconvert_exporter": "python",
   "pygments_lexer": "ipython3",
   "version": "3.9.7"
  }
 },
 "nbformat": 4,
 "nbformat_minor": 4
}
